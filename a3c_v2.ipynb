{
  "nbformat": 4,
  "nbformat_minor": 0,
  "metadata": {
    "colab": {
      "name": "a3c_v2.ipynb",
      "provenance": [],
      "collapsed_sections": [],
      "include_colab_link": true
    },
    "kernelspec": {
      "name": "python3",
      "display_name": "Python 3"
    },
    "language_info": {
      "name": "python"
    }
  },
  "cells": [
    {
      "cell_type": "markdown",
      "metadata": {
        "id": "view-in-github",
        "colab_type": "text"
      },
      "source": [
        "<a href=\"https://colab.research.google.com/github/moodlep/MLC_A3C/blob/main/a3c_v2.ipynb\" target=\"_parent\"><img src=\"https://colab.research.google.com/assets/colab-badge.svg\" alt=\"Open In Colab\"/></a>"
      ]
    },
    {
      "cell_type": "code",
      "metadata": {
        "colab": {
          "base_uri": "https://localhost:8080/"
        },
        "id": "-oq0AxEo1W9o",
        "outputId": "9e0a86fb-d56f-4967-a1a4-d9f84a359c0e"
      },
      "source": [
        "!pip3 install box2d-py\n",
        "!pip3 install gym[Box_2D]"
      ],
      "execution_count": 1,
      "outputs": [
        {
          "output_type": "stream",
          "name": "stdout",
          "text": [
            "Collecting box2d-py\n",
            "  Downloading box2d_py-2.3.8-cp37-cp37m-manylinux1_x86_64.whl (448 kB)\n",
            "\u001b[?25l\r\u001b[K     |▊                               | 10 kB 19.8 MB/s eta 0:00:01\r\u001b[K     |█▌                              | 20 kB 23.4 MB/s eta 0:00:01\r\u001b[K     |██▏                             | 30 kB 26.8 MB/s eta 0:00:01\r\u001b[K     |███                             | 40 kB 22.9 MB/s eta 0:00:01\r\u001b[K     |███▋                            | 51 kB 9.9 MB/s eta 0:00:01\r\u001b[K     |████▍                           | 61 kB 11.4 MB/s eta 0:00:01\r\u001b[K     |█████▏                          | 71 kB 9.1 MB/s eta 0:00:01\r\u001b[K     |█████▉                          | 81 kB 10.1 MB/s eta 0:00:01\r\u001b[K     |██████▋                         | 92 kB 11.2 MB/s eta 0:00:01\r\u001b[K     |███████▎                        | 102 kB 9.1 MB/s eta 0:00:01\r\u001b[K     |████████                        | 112 kB 9.1 MB/s eta 0:00:01\r\u001b[K     |████████▊                       | 122 kB 9.1 MB/s eta 0:00:01\r\u001b[K     |█████████▌                      | 133 kB 9.1 MB/s eta 0:00:01\r\u001b[K     |██████████▎                     | 143 kB 9.1 MB/s eta 0:00:01\r\u001b[K     |███████████                     | 153 kB 9.1 MB/s eta 0:00:01\r\u001b[K     |███████████▊                    | 163 kB 9.1 MB/s eta 0:00:01\r\u001b[K     |████████████▍                   | 174 kB 9.1 MB/s eta 0:00:01\r\u001b[K     |█████████████▏                  | 184 kB 9.1 MB/s eta 0:00:01\r\u001b[K     |█████████████▉                  | 194 kB 9.1 MB/s eta 0:00:01\r\u001b[K     |██████████████▋                 | 204 kB 9.1 MB/s eta 0:00:01\r\u001b[K     |███████████████▍                | 215 kB 9.1 MB/s eta 0:00:01\r\u001b[K     |████████████████                | 225 kB 9.1 MB/s eta 0:00:01\r\u001b[K     |████████████████▉               | 235 kB 9.1 MB/s eta 0:00:01\r\u001b[K     |█████████████████▌              | 245 kB 9.1 MB/s eta 0:00:01\r\u001b[K     |██████████████████▎             | 256 kB 9.1 MB/s eta 0:00:01\r\u001b[K     |███████████████████             | 266 kB 9.1 MB/s eta 0:00:01\r\u001b[K     |███████████████████▊            | 276 kB 9.1 MB/s eta 0:00:01\r\u001b[K     |████████████████████▌           | 286 kB 9.1 MB/s eta 0:00:01\r\u001b[K     |█████████████████████▏          | 296 kB 9.1 MB/s eta 0:00:01\r\u001b[K     |██████████████████████          | 307 kB 9.1 MB/s eta 0:00:01\r\u001b[K     |██████████████████████▋         | 317 kB 9.1 MB/s eta 0:00:01\r\u001b[K     |███████████████████████▍        | 327 kB 9.1 MB/s eta 0:00:01\r\u001b[K     |████████████████████████        | 337 kB 9.1 MB/s eta 0:00:01\r\u001b[K     |████████████████████████▉       | 348 kB 9.1 MB/s eta 0:00:01\r\u001b[K     |█████████████████████████▋      | 358 kB 9.1 MB/s eta 0:00:01\r\u001b[K     |██████████████████████████▎     | 368 kB 9.1 MB/s eta 0:00:01\r\u001b[K     |███████████████████████████     | 378 kB 9.1 MB/s eta 0:00:01\r\u001b[K     |███████████████████████████▊    | 389 kB 9.1 MB/s eta 0:00:01\r\u001b[K     |████████████████████████████▌   | 399 kB 9.1 MB/s eta 0:00:01\r\u001b[K     |█████████████████████████████▏  | 409 kB 9.1 MB/s eta 0:00:01\r\u001b[K     |██████████████████████████████  | 419 kB 9.1 MB/s eta 0:00:01\r\u001b[K     |██████████████████████████████▊ | 430 kB 9.1 MB/s eta 0:00:01\r\u001b[K     |███████████████████████████████▍| 440 kB 9.1 MB/s eta 0:00:01\r\u001b[K     |████████████████████████████████| 448 kB 9.1 MB/s \n",
            "\u001b[?25hInstalling collected packages: box2d-py\n",
            "Successfully installed box2d-py-2.3.8\n",
            "Requirement already satisfied: gym[Box_2D] in /usr/local/lib/python3.7/dist-packages (0.17.3)\n",
            "\u001b[33mWARNING: gym 0.17.3 does not provide the extra 'box_2d'\u001b[0m\n",
            "Requirement already satisfied: scipy in /usr/local/lib/python3.7/dist-packages (from gym[Box_2D]) (1.4.1)\n",
            "Requirement already satisfied: cloudpickle<1.7.0,>=1.2.0 in /usr/local/lib/python3.7/dist-packages (from gym[Box_2D]) (1.3.0)\n",
            "Requirement already satisfied: numpy>=1.10.4 in /usr/local/lib/python3.7/dist-packages (from gym[Box_2D]) (1.19.5)\n",
            "Requirement already satisfied: pyglet<=1.5.0,>=1.4.0 in /usr/local/lib/python3.7/dist-packages (from gym[Box_2D]) (1.5.0)\n",
            "Requirement already satisfied: future in /usr/local/lib/python3.7/dist-packages (from pyglet<=1.5.0,>=1.4.0->gym[Box_2D]) (0.16.0)\n"
          ]
        }
      ]
    },
    {
      "cell_type": "code",
      "metadata": {
        "colab": {
          "base_uri": "https://localhost:8080/"
        },
        "id": "k85RUFpJ4qWW",
        "outputId": "2e457143-45ea-47b4-88d8-9c5ccef84b49"
      },
      "source": [
        "# Clone A3C repo: need PAT\n",
        "! git clone https://xxxx@github.com/moodlep/MLC_A3C.git"
      ],
      "execution_count": 2,
      "outputs": [
        {
          "output_type": "stream",
          "name": "stdout",
          "text": [
            "Cloning into 'MLC_A3C'...\n",
            "remote: Enumerating objects: 37, done.\u001b[K\n",
            "remote: Counting objects: 100% (37/37), done.\u001b[K\n",
            "remote: Compressing objects: 100% (32/32), done.\u001b[K\n",
            "remote: Total 37 (delta 8), reused 14 (delta 2), pack-reused 0\u001b[K\n",
            "Unpacking objects: 100% (37/37), done.\n"
          ]
        }
      ]
    },
    {
      "cell_type": "code",
      "metadata": {
        "colab": {
          "base_uri": "https://localhost:8080/"
        },
        "id": "MAVGumgs4y_c",
        "outputId": "65d73be3-e274-44ba-d906-b550968ef1f7"
      },
      "source": [
        "%cd /content/MLC_A3C\n",
        "!pip install -e ."
      ],
      "execution_count": 3,
      "outputs": [
        {
          "output_type": "stream",
          "name": "stdout",
          "text": [
            "/content/MLC_A3C\n",
            "Obtaining file:///content/MLC_A3C\n",
            "Requirement already satisfied: gym in /usr/local/lib/python3.7/dist-packages (from a3c==0.0.1) (0.17.3)\n",
            "Requirement already satisfied: numpy>=1.10.4 in /usr/local/lib/python3.7/dist-packages (from gym->a3c==0.0.1) (1.19.5)\n",
            "Requirement already satisfied: pyglet<=1.5.0,>=1.4.0 in /usr/local/lib/python3.7/dist-packages (from gym->a3c==0.0.1) (1.5.0)\n",
            "Requirement already satisfied: cloudpickle<1.7.0,>=1.2.0 in /usr/local/lib/python3.7/dist-packages (from gym->a3c==0.0.1) (1.3.0)\n",
            "Requirement already satisfied: scipy in /usr/local/lib/python3.7/dist-packages (from gym->a3c==0.0.1) (1.4.1)\n",
            "Requirement already satisfied: future in /usr/local/lib/python3.7/dist-packages (from pyglet<=1.5.0,>=1.4.0->gym->a3c==0.0.1) (0.16.0)\n",
            "Installing collected packages: a3c\n",
            "  Running setup.py develop for a3c\n",
            "Successfully installed a3c-0.0.1\n"
          ]
        }
      ]
    },
    {
      "cell_type": "code",
      "metadata": {
        "id": "deq0in1i1iM7"
      },
      "source": [
        "import os\n",
        "import Box2D\n",
        "import pyglet\n",
        "import imageio\n",
        "os.system(\"Xvfb :1 -screen 0 1024x768x24 &\")\n",
        "os.environ['DISPLAY'] = ':1'\n"
      ],
      "execution_count": 4,
      "outputs": []
    },
    {
      "cell_type": "code",
      "metadata": {
        "id": "954_wRxQtHoe"
      },
      "source": [
        "import gym\n",
        "import torch\n",
        "import numpy as np\n",
        "import torch.nn as nn\n",
        "import torch.nn.functional as F\n"
      ],
      "execution_count": 5,
      "outputs": []
    },
    {
      "cell_type": "code",
      "metadata": {
        "colab": {
          "base_uri": "https://localhost:8080/"
        },
        "id": "3r4eBGVC7b5a",
        "outputId": "98b17a8f-d740-4d2c-8256-698e4116e55a"
      },
      "source": [
        "import torch.multiprocessing as mp\n",
        "from actor_critic_networks import Critic, Policy\n",
        "from shared_adam import SharedAdam\n",
        "from actor_critic_worker import ActorCriticWorker\n",
        "\n",
        "\n",
        "# if __name__ == '__main__':\n",
        "#     mp.freeze_support()  # https://github.com/pytorch/pytorch/issues/5858\n",
        "\n",
        "# Create a dummy env\n",
        "env = gym.make(\"LunarLander-v2\")\n",
        "\n",
        "state_dim = env.observation_space.shape[0]\n",
        "action_dim = env.action_space.n\n",
        "\n",
        "\n",
        "global_critic = Critic(state_dim)\n",
        "global_actor = Policy(state_dim,action_dim)\n",
        "global_critic.share_memory()\n",
        "global_actor.share_memory()\n",
        "n_workers = 10\n",
        "env_name = \"LunarLander-v2\"\n",
        "\n",
        "global_opt = SharedAdam(list(list(global_critic.parameters()) + list(global_actor.parameters())))\n",
        "global_ctr = mp.Value('i',0)  # T - the global step counter\n",
        "lock = mp.Lock()  # send to worker when it needs to update global counter\n",
        "\n",
        "# pr = [ ActorCriticWorker(env_name,global_critic,global_actor,global_opt,global_ctr,lock) for _ in range(mp.cpu_count())]\n",
        "pr = [ ActorCriticWorker(env_name,global_critic,global_actor,global_opt,global_ctr,lock) for _ in range(1)]\n",
        "\n",
        "for p in pr:\n",
        "    print(type(p))\n",
        "    p.start()  # start each ActorCriticWorker process\n",
        "\n",
        "for p in pr:\n",
        "    p.join()  # wait for process to finish"
      ],
      "execution_count": 9,
      "outputs": [
        {
          "output_type": "stream",
          "name": "stdout",
          "text": [
            "<class 'actor_critic_worker.ActorCriticWorker'>\n"
          ]
        },
        {
          "output_type": "stream",
          "name": "stderr",
          "text": [
            "Process ActorCriticWorker-2:\n",
            "Traceback (most recent call last):\n",
            "  File \"/usr/lib/python3.7/multiprocessing/process.py\", line 297, in _bootstrap\n",
            "    self.run()\n",
            "  File \"/content/MLC_A3C/actor_critic_worker.py\", line 47, in run\n",
            "    action = self.actor.get_action(torch.tensor(state, dtype=torch.double))\n",
            "  File \"/content/MLC_A3C/actor_critic_networks.py\", line 27, in get_action\n",
            "    policy = self.forward(state)\n",
            "  File \"/content/MLC_A3C/actor_critic_networks.py\", line 20, in forward\n",
            "    q = F.leaky_relu(self.l1(state))\n",
            "  File \"/usr/local/lib/python3.7/dist-packages/torch/nn/modules/module.py\", line 1051, in _call_impl\n",
            "    return forward_call(*input, **kwargs)\n",
            "  File \"/usr/local/lib/python3.7/dist-packages/torch/nn/modules/linear.py\", line 96, in forward\n",
            "    return F.linear(input, self.weight, self.bias)\n",
            "  File \"/usr/local/lib/python3.7/dist-packages/torch/nn/functional.py\", line 1847, in linear\n",
            "    return torch._C._nn.linear(input, weight, bias)\n",
            "RuntimeError: expected scalar type Double but found Float\n"
          ]
        }
      ]
    },
    {
      "cell_type": "code",
      "metadata": {
        "id": "mDmo5_AcE3R7"
      },
      "source": [
        ""
      ],
      "execution_count": null,
      "outputs": []
    }
  ]
}